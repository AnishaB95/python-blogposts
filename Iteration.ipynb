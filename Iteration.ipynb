{
 "cells": [
  {
   "cell_type": "markdown",
   "metadata": {},
   "source": [
    "Iterations: "
   ]
  },
  {
   "cell_type": "markdown",
   "metadata": {},
   "source": [
    "Iterations provide the ability to execute a set of code repeatedly and is fundamental to more advanced Python programming. "
   ]
  },
  {
   "cell_type": "markdown",
   "metadata": {},
   "source": [
    "One way to do iteration is with a for loop. You can apply a for loop on a list of elements to execute some kind of computation on each element in that list. This is considered a loop because the computation is done on the first element, then the second one, and so forth. An easy way to think about this is: \"For every number in list x, add 1\". Let's demonstrate this to understand further:"
   ]
  },
  {
   "cell_type": "code",
   "execution_count": 8,
   "metadata": {},
   "outputs": [],
   "source": [
    "#create list of numbers\n",
    "numbers = [0,2,4,6,8,10]"
   ]
  },
  {
   "cell_type": "code",
   "execution_count": 6,
   "metadata": {},
   "outputs": [
    {
     "name": "stdout",
     "output_type": "stream",
     "text": [
      "1\n",
      "4\n",
      "7\n",
      "10\n",
      "12\n",
      "16\n",
      "18\n"
     ]
    }
   ],
   "source": [
    "#indicate the for loop with the keyword \"for\"\n",
    "for n in numbers: #for n (element) in name_of_list:\n",
    "    print(n + 1) #body of loop (what to do to each element n)"
   ]
  },
  {
   "cell_type": "markdown",
   "metadata": {},
   "source": [
    "If you want to print out the results in a single line instead of separate ones, you can do this by adding a \", end ' '\" after \"n + 1\" in the print function:"
   ]
  },
  {
   "cell_type": "code",
   "execution_count": 9,
   "metadata": {},
   "outputs": [
    {
     "name": "stdout",
     "output_type": "stream",
     "text": [
      "1 3 5 7 9 11 "
     ]
    }
   ],
   "source": [
    "for n in numbers: \n",
    "    print(n + 1, end = \" \")"
   ]
  },
  {
   "cell_type": "markdown",
   "metadata": {},
   "source": [
    "Another way to achieve what we did above is with the while loop, but the structure will be slightly different. Instead of providing the while loop with a list to compute on, you will give it a start value and instructions that will let it know when to stop. Otherwise it will be caught in an infinite loop and may cause your computer to crash. "
   ]
  },
  {
   "cell_type": "code",
   "execution_count": 10,
   "metadata": {},
   "outputs": [
    {
     "name": "stdout",
     "output_type": "stream",
     "text": [
      "0 2 4 6 8 10 12 14 16 18 20 "
     ]
    }
   ],
   "source": [
    "#set start value\n",
    "x = 0\n",
    "# indicate while loop with the keyword \"while\"\n",
    "while x <= 20: #while x is ....(whatever your condition is)\n",
    "    print (x, end = \" \") #print this\n",
    "    x = x + 2 #increase the value of x to prevent infinite loop"
   ]
  },
  {
   "cell_type": "markdown",
   "metadata": {},
   "source": [
    "As you can see from the code above we set x equal to zero, and told the machine that until the value of x hits 20, keep printing the value of x. To ensure that there would be no infinite loop, we then told the machine to add two to x on each loop, so that it can hit 20 and stop executing the while loop. "
   ]
  },
  {
   "cell_type": "markdown",
   "metadata": {},
   "source": [
    "A neat Python trick to know for when working lists and loops is that you can generate lists with the range() function, which is a lot better than making lists manually. The range() function generates your list based on a start value, a stop value (1 value above the value you want to be last in the list,) and a step value (jump from one value to the next.) Let's create a list with the range() function:"
   ]
  },
  {
   "cell_type": "code",
   "execution_count": 12,
   "metadata": {},
   "outputs": [
    {
     "data": {
      "text/plain": [
       "[0, 2, 4, 6, 8, 10, 12, 14, 16, 18, 20]"
      ]
     },
     "execution_count": 12,
     "metadata": {},
     "output_type": "execute_result"
    }
   ],
   "source": [
    "#list(range(start, stop, step))\n",
    "#use list to print the list\n",
    "list(range(0,21,2))"
   ]
  },
  {
   "cell_type": "markdown",
   "metadata": {},
   "source": [
    "Let's try using the range() function in a for loop:"
   ]
  },
  {
   "cell_type": "code",
   "execution_count": 13,
   "metadata": {},
   "outputs": [
    {
     "name": "stdout",
     "output_type": "stream",
     "text": [
      "20 30 40 50 60 70 80 90 100 110 120 130 140 150 160 170 180 190 "
     ]
    }
   ],
   "source": [
    "for n in range(10,100,5):\n",
    "    print(2*n, end = \" \")"
   ]
  },
  {
   "cell_type": "markdown",
   "metadata": {},
   "source": [
    "Last, but not least, we need to take a look at how to iterate over dictionaries. Let's say you went grocery shopping on several occasions, picked up the same items and wanted to know the total you spent on them. Let's first create a dictionary for the price of each item and one for the quantity:"
   ]
  },
  {
   "cell_type": "code",
   "execution_count": 14,
   "metadata": {},
   "outputs": [],
   "source": [
    "prices = {\"bananas\": 1, \"bread\": 3, \"milk\": 2}\n",
    "quantity = {\"bananas\": 4, \"bread\": 2, \"milk\": 1}"
   ]
  },
  {
   "cell_type": "markdown",
   "metadata": {},
   "source": [
    "Now, let's create a money spent variable set equal to zero, and create a for loop so that when we multiply each element in both dictionaries to get the total price for each item, we can add that value to money spent:"
   ]
  },
  {
   "cell_type": "code",
   "execution_count": 15,
   "metadata": {},
   "outputs": [
    {
     "name": "stdout",
     "output_type": "stream",
     "text": [
      "12\n"
     ]
    }
   ],
   "source": [
    "#create variable set to 0\n",
    "money_spent = 0\n",
    "\n",
    "for i in prices:\n",
    "    money_spent = money_spent + (prices[i]* quantity[i])\n",
    "    \n",
    "print(money_spent)"
   ]
  },
  {
   "cell_type": "markdown",
   "metadata": {},
   "source": [
    "The for loop above basically says that for every element in prices, add money spent (which starts at 0) to the price of the item times the quanitity of the item. When we print money spent, we got the total. "
   ]
  },
  {
   "cell_type": "markdown",
   "metadata": {},
   "source": [
    "While this may seem complicated at first, it is actually quite intuitive. You'll find that a lot of programming just requires thinking about what the end result needs to be, and what steps are required to achieve that result. "
   ]
  }
 ],
 "metadata": {
  "kernelspec": {
   "display_name": "Python 3",
   "language": "python",
   "name": "python3"
  },
  "language_info": {
   "codemirror_mode": {
    "name": "ipython",
    "version": 3
   },
   "file_extension": ".py",
   "mimetype": "text/x-python",
   "name": "python",
   "nbconvert_exporter": "python",
   "pygments_lexer": "ipython3",
   "version": "3.8.5"
  }
 },
 "nbformat": 4,
 "nbformat_minor": 4
}
