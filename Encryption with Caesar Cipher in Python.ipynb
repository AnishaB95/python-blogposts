{
 "cells": [
  {
   "cell_type": "code",
   "execution_count": 2,
   "id": "cb1a4620",
   "metadata": {},
   "outputs": [],
   "source": [
    "alphabet = 'abcdefghijklmnopqrstuvwqyz'"
   ]
  },
  {
   "cell_type": "code",
   "execution_count": 3,
   "id": "fa5aee97",
   "metadata": {},
   "outputs": [],
   "source": [
    "input_text = 'hello'"
   ]
  },
  {
   "cell_type": "code",
   "execution_count": 4,
   "id": "76758357",
   "metadata": {},
   "outputs": [],
   "source": [
    "#Build a Simple Version"
   ]
  },
  {
   "cell_type": "code",
   "execution_count": 5,
   "id": "9b1af8cc",
   "metadata": {},
   "outputs": [
    {
     "name": "stdout",
     "output_type": "stream",
     "text": [
      "khoor\n"
     ]
    }
   ],
   "source": [
    "output = '' #create empty output list\n",
    "for char in input_text:\n",
    "    alpha_index = alphabet.find(char) #number of the letter we're on\n",
    "    output = output + alphabet[alpha_index+3] #this will shift it\n",
    "print(output)"
   ]
  },
  {
   "cell_type": "code",
   "execution_count": 6,
   "id": "2a62e453",
   "metadata": {},
   "outputs": [],
   "source": [
    "#What if cipher index goes beyond the end of the alphabet?"
   ]
  },
  {
   "cell_type": "code",
   "execution_count": 34,
   "id": "2ebf70c8",
   "metadata": {},
   "outputs": [
    {
     "ename": "IndexError",
     "evalue": "string index out of range",
     "output_type": "error",
     "traceback": [
      "\u001b[0;31m---------------------------------------------------------------------------\u001b[0m",
      "\u001b[0;31mIndexError\u001b[0m                                Traceback (most recent call last)",
      "\u001b[0;32m<ipython-input-34-b11831e38590>\u001b[0m in \u001b[0;36m<module>\u001b[0;34m\u001b[0m\n\u001b[1;32m      3\u001b[0m \u001b[0;32mfor\u001b[0m \u001b[0mchar\u001b[0m \u001b[0;32min\u001b[0m \u001b[0minput_text\u001b[0m\u001b[0;34m:\u001b[0m\u001b[0;34m\u001b[0m\u001b[0;34m\u001b[0m\u001b[0m\n\u001b[1;32m      4\u001b[0m     \u001b[0malpha_index\u001b[0m \u001b[0;34m=\u001b[0m \u001b[0malphabet\u001b[0m\u001b[0;34m.\u001b[0m\u001b[0mfind\u001b[0m\u001b[0;34m(\u001b[0m\u001b[0mchar\u001b[0m\u001b[0;34m)\u001b[0m \u001b[0;31m#number of the letter we're one\u001b[0m\u001b[0;34m\u001b[0m\u001b[0;34m\u001b[0m\u001b[0m\n\u001b[0;32m----> 5\u001b[0;31m     \u001b[0moutput\u001b[0m \u001b[0;34m=\u001b[0m \u001b[0moutput\u001b[0m \u001b[0;34m+\u001b[0m \u001b[0malphabet\u001b[0m\u001b[0;34m[\u001b[0m\u001b[0malpha_index\u001b[0m\u001b[0;34m+\u001b[0m\u001b[0;36m30\u001b[0m\u001b[0;34m]\u001b[0m \u001b[0;31m#this will shift it\u001b[0m\u001b[0;34m\u001b[0m\u001b[0;34m\u001b[0m\u001b[0m\n\u001b[0m\u001b[1;32m      6\u001b[0m \u001b[0mprint\u001b[0m\u001b[0;34m(\u001b[0m\u001b[0moutput\u001b[0m\u001b[0;34m)\u001b[0m\u001b[0;34m\u001b[0m\u001b[0;34m\u001b[0m\u001b[0m\n",
      "\u001b[0;31mIndexError\u001b[0m: string index out of range"
     ]
    }
   ],
   "source": [
    "#this code chunk should have an error\n",
    "output = '' #create empty output list\n",
    "for char in input_text:\n",
    "    alpha_index = alphabet.find(char) #number of the letter we're one\n",
    "    output = output + alphabet[alpha_index+30] #this will shift it\n",
    "print(output)"
   ]
  },
  {
   "cell_type": "code",
   "execution_count": 8,
   "id": "209ed8ed",
   "metadata": {},
   "outputs": [],
   "source": [
    "#Write a function to deal with the shift"
   ]
  },
  {
   "cell_type": "code",
   "execution_count": 9,
   "id": "45360aaf",
   "metadata": {},
   "outputs": [],
   "source": [
    "def shift_amount(i):\n",
    "    '''Will determine the shift, taking into account the length of the alphabet. Takes integer and returns remainder'''\n",
    "    return i%26"
   ]
  },
  {
   "cell_type": "code",
   "execution_count": 10,
   "id": "9865208f",
   "metadata": {},
   "outputs": [
    {
     "name": "stdout",
     "output_type": "stream",
     "text": [
      "lipps\n"
     ]
    }
   ],
   "source": [
    "output_1 = '' #create empty output list\n",
    "for char in input_text:\n",
    "    alpha_index = alphabet.find(char) #number of the letter we're one\n",
    "    output_1 = output_1 + alphabet[shift_amount(alpha_index+30)] #this will shift it\n",
    "print(output_1)"
   ]
  },
  {
   "cell_type": "code",
   "execution_count": 11,
   "id": "66455840",
   "metadata": {},
   "outputs": [],
   "source": [
    "#One complete function"
   ]
  },
  {
   "cell_type": "code",
   "execution_count": 12,
   "id": "1700e35e",
   "metadata": {},
   "outputs": [],
   "source": [
    "def encrypt(text,required_shift):\n",
    "    out_string = ''\n",
    "    text = text.lower() #make lower case\n",
    "    for char in text:\n",
    "        if char not in alphabet: #character isn't in alphabet, we don't shift it, just add it to the string - like space or punctuation\n",
    "            out_string = out_string + char\n",
    "        else:\n",
    "            alpha_index = alphabet.find(char) #find index number of character\n",
    "            out_string = out_string + alphabet[shift_amount(alpha_index +required_shift)]\n",
    "    return out_string "
   ]
  },
  {
   "cell_type": "code",
   "execution_count": 35,
   "id": "e75ace28",
   "metadata": {},
   "outputs": [],
   "source": [
    "new_string = 'Have a nice day'\n",
    "shift = encrypt(new_string,4)"
   ]
  },
  {
   "cell_type": "code",
   "execution_count": 36,
   "id": "031e7ff8",
   "metadata": {},
   "outputs": [
    {
     "data": {
      "text/plain": [
       "'lezi e rmgi hec'"
      ]
     },
     "execution_count": 36,
     "metadata": {},
     "output_type": "execute_result"
    }
   ],
   "source": [
    "shift"
   ]
  },
  {
   "cell_type": "code",
   "execution_count": 37,
   "id": "ea8ce15e",
   "metadata": {},
   "outputs": [],
   "source": [
    "# We can un-encrypt with a negative required shift"
   ]
  },
  {
   "cell_type": "code",
   "execution_count": 38,
   "id": "7d635571",
   "metadata": {},
   "outputs": [
    {
     "name": "stdout",
     "output_type": "stream",
     "text": [
      "have a nice day\n"
     ]
    }
   ],
   "source": [
    "print(encrypt(shift,-4))"
   ]
  },
  {
   "cell_type": "code",
   "execution_count": 30,
   "id": "e8ce1e0b",
   "metadata": {},
   "outputs": [],
   "source": []
  },
  {
   "cell_type": "code",
   "execution_count": null,
   "id": "5a17e942",
   "metadata": {},
   "outputs": [],
   "source": []
  },
  {
   "cell_type": "code",
   "execution_count": null,
   "id": "27baf827",
   "metadata": {},
   "outputs": [],
   "source": [
    "#Source: code for function learned in 365 Data Science Python Programmer Bootcamp"
   ]
  }
 ],
 "metadata": {
  "kernelspec": {
   "display_name": "Python 3",
   "language": "python",
   "name": "python3"
  },
  "language_info": {
   "codemirror_mode": {
    "name": "ipython",
    "version": 3
   },
   "file_extension": ".py",
   "mimetype": "text/x-python",
   "name": "python",
   "nbconvert_exporter": "python",
   "pygments_lexer": "ipython3",
   "version": "3.8.8"
  }
 },
 "nbformat": 4,
 "nbformat_minor": 5
}
