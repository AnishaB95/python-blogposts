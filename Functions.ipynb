{
 "cells": [
  {
   "cell_type": "markdown",
   "metadata": {},
   "source": [
    "Functions:"
   ]
  },
  {
   "cell_type": "markdown",
   "metadata": {},
   "source": [
    "A function is a block of reusable code that can be used to perform a specific action. To tell the computer that you are going to make a function, start the line with \"def,\" short for define, and start defining your function. Let's look at an example to have a better idea of a function's structure:"
   ]
  },
  {
   "cell_type": "code",
   "execution_count": 1,
   "metadata": {},
   "outputs": [
    {
     "name": "stdout",
     "output_type": "stream",
     "text": [
      "Hello\n"
     ]
    }
   ],
   "source": [
    "#define function\n",
    "def hello():  #def function_name():\n",
    "    print(\"Hello\") #function body\n",
    "\n",
    "#call function\n",
    "hello()"
   ]
  },
  {
   "cell_type": "markdown",
   "metadata": {},
   "source": [
    "The example above starts with \"def\" to define the function, followed by the function name \"hello,\" a set of parenthesis, and a colon. The next line is the function body, or where you define what the function will do. In the case, the function \"hello\" prints \"Hello,\" which we can see when we called the function. "
   ]
  },
  {
   "cell_type": "markdown",
   "metadata": {},
   "source": [
    "The above example was a simple function that only returns one output. What if you want to create a more complex function that accepts different inputs to compute different outputs? For example, you want to create a function that takes in a value, multiplies it by 10, and the outputs the result. This is possible by adding \"parameters\" when defining the function. Let's see this in the example below:"
   ]
  },
  {
   "cell_type": "code",
   "execution_count": 5,
   "metadata": {},
   "outputs": [
    {
     "data": {
      "text/plain": [
       "10"
      ]
     },
     "execution_count": 5,
     "metadata": {},
     "output_type": "execute_result"
    }
   ],
   "source": [
    "#define function multiply_by_five()\n",
    "def multiply_by_five(x): #def function_name(parameter):\n",
    "    return x * 5 #function body\n",
    "\n",
    "#call function with an argument\n",
    "multiply_by_five(2) "
   ]
  },
  {
   "cell_type": "markdown",
   "metadata": {},
   "source": [
    "As the example above shows, adding a parameter, x, to the function definition allows you to use the function with different inputs, instead of having to create a new function every time you want to perform the same task with different inputs. "
   ]
  },
  {
   "cell_type": "markdown",
   "metadata": {},
   "source": [
    "You will notice that when referring to the input in the definition, it is referred to as a \"parameter,\" but when calling the function on an input, it is referred to as an \"argument.\" It is important to remember this. "
   ]
  },
  {
   "cell_type": "markdown",
   "metadata": {},
   "source": [
    "You also probably noticed that in the first example, we used the print() function at the end, but used \"return\" in the function example above. This is because print() simply displays information, while \"return\" outputs the value based on what the function is supposed to give back and ends the function. Therefore, \"return\" can only be used in a function once, at the end. "
   ]
  },
  {
   "cell_type": "markdown",
   "metadata": {},
   "source": [
    "You can also create functions with multiple parameters. This involves identifying the appropriate number of parameters when defining the function, and adding the same number of arguments when calling the function:"
   ]
  },
  {
   "cell_type": "code",
   "execution_count": 6,
   "metadata": {},
   "outputs": [
    {
     "data": {
      "text/plain": [
       "3"
      ]
     },
     "execution_count": 6,
     "metadata": {},
     "output_type": "execute_result"
    }
   ],
   "source": [
    "#define a function to subtract one number from another\n",
    "def subtract(x,y):\n",
    "    result = x - y \n",
    "    return result\n",
    "#call with arguments\n",
    "subtract(5,2)"
   ]
  },
  {
   "cell_type": "markdown",
   "metadata": {},
   "source": [
    "In the example above, the function was defined a bit differently. Instead of having \"return x - y\" on the second line, I assigned the subtraction to the variable \"result\" and then returned the result. There is no pro or con to defining a function this way, but it is an alternative. "
   ]
  },
  {
   "cell_type": "markdown",
   "metadata": {},
   "source": [
    "Functions are neat because of the amount of things you can do with them. You can call a previously defined function in a new one: "
   ]
  },
  {
   "cell_type": "code",
   "execution_count": 9,
   "metadata": {},
   "outputs": [
    {
     "data": {
      "text/plain": [
       "(9, 4.5)"
      ]
     },
     "execution_count": 9,
     "metadata": {},
     "output_type": "execute_result"
    }
   ],
   "source": [
    "#define function to find sum of two values\n",
    "def add(x,y):\n",
    "    return x + y\n",
    "#define a function to find the average of two values\n",
    "def average(x,y):\n",
    "    return add(x,y) / 2\n",
    "\n",
    "add(6,3), average(6,3)"
   ]
  },
  {
   "cell_type": "markdown",
   "metadata": {},
   "source": [
    "The example above shows how the add() function was defined, and then uses it in the average() function. Just make sure that the number of parameters match in both functions, or else it won't work. "
   ]
  },
  {
   "cell_type": "markdown",
   "metadata": {},
   "source": [
    "Another thing that functions can do is contain conditional statements:"
   ]
  },
  {
   "cell_type": "code",
   "execution_count": 12,
   "metadata": {},
   "outputs": [
    {
     "name": "stdout",
     "output_type": "stream",
     "text": [
      "No\n"
     ]
    }
   ],
   "source": [
    "#define a function that returns \"yes\" if the argument is above 50 and \"no\" if it is below\n",
    "def above_fifty(x):\n",
    "    if x > 50:\n",
    "        print(\"Yes\")\n",
    "    else:\n",
    "        print(\"No\")\n",
    "        \n",
    "above_fifty(25)"
   ]
  },
  {
   "cell_type": "code",
   "execution_count": 13,
   "metadata": {},
   "outputs": [
    {
     "name": "stdout",
     "output_type": "stream",
     "text": [
      "Yes\n"
     ]
    }
   ],
   "source": [
    "above_fifty(60)"
   ]
  },
  {
   "cell_type": "markdown",
   "metadata": {},
   "source": [
    "If you are now starting out with Python, there are some built-in functions available to get you started. "
   ]
  },
  {
   "cell_type": "markdown",
   "metadata": {},
   "source": [
    "These include: type() to determine type of an object, int() to convert number or string to an integer, float() to convert a number or string to a float, and str() to convert a value to a string. "
   ]
  },
  {
   "cell_type": "markdown",
   "metadata": {},
   "source": [
    "There is also min() and max() which finds the min and max of a list of valies, abs() to find the absolute value, sum() to sum values, round() to round a value, pow(x,y) to find the power, and len() to find the length of the input. "
   ]
  }
 ],
 "metadata": {
  "kernelspec": {
   "display_name": "Python 3",
   "language": "python",
   "name": "python3"
  },
  "language_info": {
   "codemirror_mode": {
    "name": "ipython",
    "version": 3
   },
   "file_extension": ".py",
   "mimetype": "text/x-python",
   "name": "python",
   "nbconvert_exporter": "python",
   "pygments_lexer": "ipython3",
   "version": "3.8.5"
  }
 },
 "nbformat": 4,
 "nbformat_minor": 4
}
