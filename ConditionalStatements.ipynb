{
 "cells": [
  {
   "cell_type": "markdown",
   "metadata": {},
   "source": [
    "Conditional Statements:"
   ]
  },
  {
   "cell_type": "markdown",
   "metadata": {},
   "source": [
    "Conditional statements are commands that compute different results depending on conditions set by the programmer. This workbook covers If, Else, and If Else statements in addition to the importance of boolean values to determining conditional results. "
   ]
  },
  {
   "cell_type": "markdown",
   "metadata": {},
   "source": [
    "\"If statements\" are commands that if proven to be true, the machine will output your designated result. If that statement is not true, then machine will provide no result. Let's look at an example:"
   ]
  },
  {
   "cell_type": "code",
   "execution_count": 2,
   "metadata": {},
   "outputs": [
    {
     "name": "stdout",
     "output_type": "stream",
     "text": [
      "Yay\n"
     ]
    }
   ],
   "source": [
    "#When writing If Statements, it's important to have the right structure\n",
    "\n",
    "if 5 == 10/2: #if condition:\n",
    "    print(\"Yay\") #conditional code"
   ]
  },
  {
   "cell_type": "markdown",
   "metadata": {},
   "source": [
    "You will notice that the first line of the command is \"if condition:\" (what your condition is), followed by the actual conditional code (what you want the machine to do if that condition is true) on an indented line below - this keeps the command in its own block. "
   ]
  },
  {
   "cell_type": "markdown",
   "metadata": {},
   "source": [
    "In this case, the condition was if \"5 equals 10 divided 2,\" which is true. Therefore, the machine executed the conditional code which was to print \"Yay.\" When the condition is not true, the machine will not provide any output. Let's look at an example: "
   ]
  },
  {
   "cell_type": "code",
   "execution_count": 3,
   "metadata": {},
   "outputs": [],
   "source": [
    "#If Statement with false condition leads to no output\n",
    "\n",
    "if 5 == 12/2: #if condition:\n",
    "    print(\"Yay\") #conditional code"
   ]
  },
  {
   "cell_type": "markdown",
   "metadata": {},
   "source": [
    "The next statement we will look at is the \"Else statement.\" The \"Else Statement\" is used as an alternative to the \"If Statement\", if the \"If Statement\" evaluates to \"False.\" Meaning that if the \"If Statement\" is false, the \"Else Statement\" tells the machine what to do next. Let's look at an example:"
   ]
  },
  {
   "cell_type": "code",
   "execution_count": 8,
   "metadata": {},
   "outputs": [
    {
     "name": "stdout",
     "output_type": "stream",
     "text": [
      "x is greater than 5\n"
     ]
    }
   ],
   "source": [
    "#else is a new command, so it will start on a new line but not be indented. \n",
    "#The Else conditional code will be indented on a new line to keep the structure of that command\n",
    "\n",
    "x = 7 # variable assignment\n",
    "\n",
    "if x > 5: #if condition:\n",
    "    print(\"x is greater than 5\") #conditional code\n",
    "else: #else starting new command\n",
    "    print(\"x is less than 5\") #conditional code"
   ]
  },
  {
   "cell_type": "markdown",
   "metadata": {},
   "source": [
    "You'll notice that while the \"If Statement\" will only compute a result if the statement is \"True,\" the \"Else Statement\" will always provide a result. Because we provide the machine with another option if that \"If Statement\" evaluates to false. Let's look at the same example, but change the value of x to 3:"
   ]
  },
  {
   "cell_type": "code",
   "execution_count": 9,
   "metadata": {},
   "outputs": [
    {
     "name": "stdout",
     "output_type": "stream",
     "text": [
      "x is less than 5\n"
     ]
    }
   ],
   "source": [
    "x = 3 # variable assignment\n",
    "\n",
    "if x > 5: #if condition:\n",
    "    print(\"x is greater than 5\") #conditional code\n",
    "else: #else starting new command\n",
    "    print(\"x is less than 5\") #conditional code"
   ]
  },
  {
   "cell_type": "markdown",
   "metadata": {},
   "source": [
    "Elif, short for \"Else If\" is a statement that allows you to add multiple \"Ifs\" to your conditional code. Let's say we wanted to add another statement to the example above to evaluate if x is negative; we can add this with Elif:"
   ]
  },
  {
   "cell_type": "code",
   "execution_count": 11,
   "metadata": {},
   "outputs": [
    {
     "name": "stdout",
     "output_type": "stream",
     "text": [
      "x is negative\n"
     ]
    }
   ],
   "source": [
    "x = -3 # variable assignment\n",
    "\n",
    "if x > 5: #if condition:\n",
    "    print(\"x is greater than 5\") #conditional code\n",
    "elif x < 0: #else if condition:\n",
    "    print(\"x is negative\") #conditional code\n",
    "else: #else\n",
    "    print(\"x is less than 5\") #conditional code"
   ]
  },
  {
   "cell_type": "markdown",
   "metadata": {},
   "source": [
    "Something important to note about Python is that it evaluates code from top to bottom, therefore the order you program your commands in is critical to getting the correct result. In the example above, the statement to evaluate if \"x is less than zero\" is before the else statement, because otherwise it would give the result that \"x is less than 5.\" This is not wrong as -3 is less than 5, but in this case we were looking for the result that \"x is negative.\" Let's see the incorrect way to do this for learning purposes:"
   ]
  },
  {
   "cell_type": "code",
   "execution_count": 12,
   "metadata": {},
   "outputs": [
    {
     "name": "stdout",
     "output_type": "stream",
     "text": [
      "x less than 5\n"
     ]
    }
   ],
   "source": [
    "x = -3 # variable assignment\n",
    "\n",
    "if x > 5: #if condition:\n",
    "    print(\"x is greater than 5\") #conditional code\n",
    "elif x < 5: #else if condition:\n",
    "    print(\"x less than 5\") #conditional code\n",
    "elif x < 0: #else if condition: \n",
    "    print(\"x is negative\") #conditional code"
   ]
  },
  {
   "cell_type": "markdown",
   "metadata": {},
   "source": [
    "Boolean Values are also important to Conditional Statements. "
   ]
  },
  {
   "cell_type": "markdown",
   "metadata": {},
   "source": [
    "You have probably noticed by now, but the boolean values \"True\" and \"False\" are integral to conditional statements. When you write an \"If Statement,\" the machine attaches boolean values to it and computes results based on your conditional code commands. This is just something to think about when coding to help understand the computational logic of the programming language."
   ]
  }
 ],
 "metadata": {
  "kernelspec": {
   "display_name": "Python 3",
   "language": "python",
   "name": "python3"
  },
  "language_info": {
   "codemirror_mode": {
    "name": "ipython",
    "version": 3
   },
   "file_extension": ".py",
   "mimetype": "text/x-python",
   "name": "python",
   "nbconvert_exporter": "python",
   "pygments_lexer": "ipython3",
   "version": "3.8.5"
  }
 },
 "nbformat": 4,
 "nbformat_minor": 4
}
